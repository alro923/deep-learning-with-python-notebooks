{
  "nbformat": 4,
  "nbformat_minor": 0,
  "metadata": {
    "kernelspec": {
      "display_name": "Python 3",
      "language": "python",
      "name": "python3"
    },
    "language_info": {
      "codemirror_mode": {
        "name": "ipython",
        "version": 3
      },
      "file_extension": ".py",
      "mimetype": "text/x-python",
      "name": "python",
      "nbconvert_exporter": "python",
      "pygments_lexer": "ipython3",
      "version": "3.6.6"
    },
    "colab": {
      "name": "4.4-overfitting-and-underfitting.ipynb",
      "provenance": []
    }
  },
  "cells": [
    {
      "cell_type": "code",
      "metadata": {
        "id": "19h2scCgaAnI",
        "colab_type": "code",
        "colab": {
          "base_uri": "https://localhost:8080/",
          "height": 100
        },
        "outputId": "bf52a7dc-55b7-4385-cb57-61dc3d2ad390"
      },
      "source": [
        "import keras\n",
        "keras.__version__"
      ],
      "execution_count": 1,
      "outputs": [
        {
          "output_type": "stream",
          "text": [
            "Using TensorFlow backend.\n"
          ],
          "name": "stderr"
        },
        {
          "output_type": "display_data",
          "data": {
            "text/html": [
              "<p style=\"color: red;\">\n",
              "The default version of TensorFlow in Colab will soon switch to TensorFlow 2.x.<br>\n",
              "We recommend you <a href=\"https://www.tensorflow.org/guide/migrate\" target=\"_blank\">upgrade</a> now \n",
              "or ensure your notebook will continue to use TensorFlow 1.x via the <code>%tensorflow_version 1.x</code> magic:\n",
              "<a href=\"https://colab.research.google.com/notebooks/tensorflow_version.ipynb\" target=\"_blank\">more info</a>.</p>\n"
            ],
            "text/plain": [
              "<IPython.core.display.HTML object>"
            ]
          },
          "metadata": {
            "tags": []
          }
        },
        {
          "output_type": "execute_result",
          "data": {
            "text/plain": [
              "'2.2.5'"
            ]
          },
          "metadata": {
            "tags": []
          },
          "execution_count": 1
        }
      ]
    },
    {
      "cell_type": "markdown",
      "metadata": {
        "id": "Iy9IRVBCaAnQ",
        "colab_type": "text"
      },
      "source": [
        "# 과대적합과 과소적합\n",
        "\n",
        "이 노트북은 [케라스 창시자에게 배우는 딥러닝](https://tensorflow.blog/케라스-창시자에게-배우는-딥러닝/) 책의 4장 4절의 코드 예제입니다. 책에는 더 많은 내용과 그림이 있습니다. 이 노트북에는 소스 코드에 관련된 설명만 포함합니다. 이 노트북의 설명은 케라스 버전 2.2.2에 맞추어져 있습니다. 케라스 최신 버전이 릴리스되면 노트북을 다시 테스트하기 때문에 설명과 코드의 결과가 조금 다를 수 있습니다.\n",
        "\n",
        "----\n",
        "\n",
        "이전 장에 있던 세 가지 예제인 영화 리뷰 예측, 토픽 분류, 주택 가격 회귀 모두 홀드아웃 데이터에서 모델의 성능이 몇 번의 에포크 후에 최고치에 다다랐다가 감소되기 시작했습니다. 즉, 모델이 금방 훈련 데이터에 과대적합되기 시작합니다. 과대적합은 모든 머신 러닝 문제에서 발생합니다. 머신 러닝을 마스터하려면 과대적합을 다루는 방법을 꼭 배워야 합니다.\n",
        "\n",
        "머신 러닝의 근본적인 이슈는 최적화와 일반화 사이의 줄다리기입니다. 최적화는 가능한 훈련 데이터에서 최고의 성능을 얻으려고 모델을 조정하는 과정입니다(머신 러닝의 학습). 반면 일반화는 훈련된 모델이 이전에 본 적 없는 데이터에서 얼마나 잘 수행되는지를 의미합니다. 물론 모델을 만드는 목적은 좋은 일반화 성능을 얻는 것입니다. 하지만 일반화 성능을 제어할 방법이 없습니다. 단지 훈련 데이터를 기반으로 모델을 조정할 수만 있습니다.\n",
        "\n",
        "훈련 초기에 최적화와 일반화는 상호 연관되어 있습니다. 훈련 데이터의 손실이 낮을수록 테스트 데이터의 손실이 낮습니다. 이런 상황이 발생할 때 모델이 과소적합되었다고 말합니다. 모델의 성능이 계속 발전될 여지가 있습니다. 즉, 네트워크가 훈련 데이터에 있는 관련 특성을 모두 학습하지 못했습니다. 하지만 훈련 데이터에 여러 번 반복 학습하고 나면 어느 시점부터 일반화 성능이 더이상 높아지지 않습니다. 검증 세트의 성능이 멈추고 감소되기 시작합니다. 즉, 모델이 과대적합되기 시작합니다. 이는 훈련 데이터에 특화된 패턴을 학습하기 시작했다는 의미입니다. 이 패턴은 새로운 데이터와 관련성이 적어 잘못된 판단을 하게 만듭니다.\n",
        "\n",
        "모델이 관련성이 없고 좋지 못한 패턴을 훈련 데이터에서 학습하지 못하도록 하려면 가장 좋은 방법은 더 많은 훈련 데이터를 모으는 것입니다. 더 많은 데이터에서 훈련된 모델은 자연히 일반화 성능이 더 뛰어 납니다. 데이터를 더 모으는 것이 불가능할 때 차선책은 모델이 수용할 수 있는 정보의 양을 조절하거나 저장할 수 있는 정보에 제약을 가하는 것입니다. 네트워크가 적은 수의 패턴만을 기억할 수 있다면 최적화 과정에서 가장 중요한 패턴에 집중하게 될 것입니다. 이런 패턴은 더 나은 일반화 성능을 제공할 수 있습니다.\n",
        "\n",
        "이런 식으로 과대적합을 피하는 처리 과정을 규제라고 합니다. 가장 널리 사용되는 규제 기법을 알아보고 이전 장에서 본 영화 리뷰 분류 모델에 실제로 적용해 성능을 향상시켜 보겠습니다."
      ]
    },
    {
      "cell_type": "markdown",
      "metadata": {
        "id": "BLpcwnxKaAnR",
        "colab_type": "text"
      },
      "source": [
        "노트: 이 노트북에서는 편의상 IMDB 테스트 세트를 검증 세트로 사용합니다.\n",
        "\n",
        "3장 5절에 있는 코드를 사용해 데이터를 준비합니다:"
      ]
    },
    {
      "cell_type": "code",
      "metadata": {
        "id": "ouZqB7C_aAnS",
        "colab_type": "code",
        "colab": {
          "base_uri": "https://localhost:8080/",
          "height": 53
        },
        "outputId": "7d97de64-86f0-4fec-a401-1b2d24983ea7"
      },
      "source": [
        "from keras.datasets import imdb\n",
        "import numpy as np\n",
        "\n",
        "(train_data, train_labels), (test_data, test_labels) = imdb.load_data(num_words=10000)\n",
        "\n",
        "def vectorize_sequences(sequences, dimension=10000):\n",
        "    # 크기가 (len(sequences), dimension))이고 모든 원소가 0인 행렬을 만듭니다\n",
        "    results = np.zeros((len(sequences), dimension))\n",
        "    for i, sequence in enumerate(sequences):\n",
        "        results[i, sequence] = 1.  # results[i]에서 특정 인덱스의 위치를 1로 만듭니다\n",
        "    return results\n",
        "\n",
        "# 훈련 데이터를 벡터로 변환합니다\n",
        "x_train = vectorize_sequences(train_data)\n",
        "# 테스트 데이터를 벡터로 변환합니다\n",
        "x_test = vectorize_sequences(test_data)\n",
        "# 레이블을 벡터로 변환합니다\n",
        "y_train = np.asarray(train_labels).astype('float32')\n",
        "y_test = np.asarray(test_labels).astype('float32')"
      ],
      "execution_count": 2,
      "outputs": [
        {
          "output_type": "stream",
          "text": [
            "Downloading data from https://s3.amazonaws.com/text-datasets/imdb.npz\n",
            "17465344/17464789 [==============================] - 0s 0us/step\n"
          ],
          "name": "stdout"
        }
      ]
    },
    {
      "cell_type": "markdown",
      "metadata": {
        "id": "6YsnzEClaAnW",
        "colab_type": "text"
      },
      "source": [
        "# 과대적합\n",
        "\n",
        "## 네트워크 크기 축소\n",
        "\n",
        "과대적합을 막는 가장 단순한 방법은 모델의 크기, 즉 모델에 있는 학습 파라미터의 수를 줄이는 것입니다. 파라미터의 수는 층의 수와 각 층의 유닛 수에 의해 결정됩니다. 딥러닝에서 모델에 있는 학습 파라미터의 수를 종종 모델의 용량이라고 말합니다. 당연하게 파라미터가 많은 모델이 기억 용량이 더 많습니다. 훈련 샘플과 타깃 사이를 딕셔너리와 같은 1:1 매핑으로 완벽하게 학습할 수도 있습니다. 이런 매핑은 일반화 능력이 없습니다. 예를 들어 500,000개의 이진 파라미터가 있는 모델은 MNIST 훈련 세트의 숫자 이미지의 클래스를 쉽게 모두 학습할 수 있습니다. 50,000개의 숫자 이미지 하나마다 10개의 이진 파라미터만 있으면 됩니다. 하지만 이런 모델은 새로운 숫자 샘플을 분류하는 용도로는 쓸모가 없습니다. 항상 유념해야 할 것은 딥러닝 모델은 훈련 데이터에 잘 맞으려는 경향을 가진다는 점입니다. 하지만 진짜 문제는 최적화가 아니고 일반화입니다.\n",
        "\n",
        "다른 한편으로 네트워크가 기억 용량에 제한이 있다면 이런 매핑을 쉽게 학습하지 못할 것입니다. 따라서 손실을 최소화하기 위해 타깃에 대한 예측 성능을 가진 압축된 표현을 학습해야 합니다. 정확히 이런 표현이 우리의 관심 대상입니다. 동시에 기억해야할 것은 과소적합되지 않도록 충분한 파라미터를 가진 모델을 사용해야 한다는 점입니다. 모델의 기억 용량이 부족해서는 안 됩니다. 너무 많은 용량과 충분하지 않은 용량 사이의 절충점을 찾아야 합니다.\n",
        "\n",
        "안타깝지만 알맞은 층의 수나 각 층의 유닛 수를 결정할 수 있는 마법 같은 공식은 없습니다. 데이터에 알맞는 모델 크기를 찾으려면 각기 다른 구조를 (당연히 테스트 세트가 아니고 검증 세트에서) 평가해 보아야 합니다. 적절한 모델 크기를 찾는 일반적인 작업 흐름은 비교적 적은 수의 층과 파라미터로 시작합니다. 그다음 검증 손실이 감소되기 시작할 때까지 층이나 유닛의 수를 늘리는 것입니다.\n",
        "\n",
        "영화 리뷰 분류 모델에 적용해 보죠. 원래 네트워크는 다음과 같습니다:"
      ]
    },
    {
      "cell_type": "code",
      "metadata": {
        "id": "l2Ur1RSgaAnW",
        "colab_type": "code",
        "colab": {
          "base_uri": "https://localhost:8080/",
          "height": 251
        },
        "outputId": "23086fdd-28db-4bd1-83c2-658185b496a8"
      },
      "source": [
        "from keras import models\n",
        "from keras import layers\n",
        "\n",
        "original_model = models.Sequential()\n",
        "original_model.add(layers.Dense(16, activation='relu', input_shape=(10000,)))\n",
        "original_model.add(layers.Dense(16, activation='relu'))\n",
        "original_model.add(layers.Dense(1, activation='sigmoid'))\n",
        "\n",
        "original_model.compile(optimizer='rmsprop',\n",
        "                       loss='binary_crossentropy',\n",
        "                       metrics=['acc'])"
      ],
      "execution_count": 3,
      "outputs": [
        {
          "output_type": "stream",
          "text": [
            "WARNING:tensorflow:From /usr/local/lib/python3.6/dist-packages/keras/backend/tensorflow_backend.py:66: The name tf.get_default_graph is deprecated. Please use tf.compat.v1.get_default_graph instead.\n",
            "\n",
            "WARNING:tensorflow:From /usr/local/lib/python3.6/dist-packages/keras/backend/tensorflow_backend.py:541: The name tf.placeholder is deprecated. Please use tf.compat.v1.placeholder instead.\n",
            "\n",
            "WARNING:tensorflow:From /usr/local/lib/python3.6/dist-packages/keras/backend/tensorflow_backend.py:4432: The name tf.random_uniform is deprecated. Please use tf.random.uniform instead.\n",
            "\n",
            "WARNING:tensorflow:From /usr/local/lib/python3.6/dist-packages/keras/optimizers.py:793: The name tf.train.Optimizer is deprecated. Please use tf.compat.v1.train.Optimizer instead.\n",
            "\n",
            "WARNING:tensorflow:From /usr/local/lib/python3.6/dist-packages/keras/backend/tensorflow_backend.py:3657: The name tf.log is deprecated. Please use tf.math.log instead.\n",
            "\n",
            "WARNING:tensorflow:From /usr/local/lib/python3.6/dist-packages/tensorflow_core/python/ops/nn_impl.py:183: where (from tensorflow.python.ops.array_ops) is deprecated and will be removed in a future version.\n",
            "Instructions for updating:\n",
            "Use tf.where in 2.0, which has the same broadcast rule as np.where\n"
          ],
          "name": "stdout"
        }
      ]
    },
    {
      "cell_type": "markdown",
      "metadata": {
        "id": "1L47GnOmaAna",
        "colab_type": "text"
      },
      "source": [
        "더 작은 네트워크로 바꾸어 보죠:"
      ]
    },
    {
      "cell_type": "code",
      "metadata": {
        "id": "PPY0BS5iaAnb",
        "colab_type": "code",
        "colab": {}
      },
      "source": [
        "smaller_model = models.Sequential()\n",
        "smaller_model.add(layers.Dense(6, activation='relu', input_shape=(10000,)))\n",
        "smaller_model.add(layers.Dense(6, activation='relu'))\n",
        "smaller_model.add(layers.Dense(1, activation='sigmoid'))\n",
        "\n",
        "smaller_model.compile(optimizer='rmsprop',\n",
        "                      loss='binary_crossentropy',\n",
        "                      metrics=['acc'])"
      ],
      "execution_count": 0,
      "outputs": []
    },
    {
      "cell_type": "markdown",
      "metadata": {
        "id": "fyojDxmUaAne",
        "colab_type": "text"
      },
      "source": [
        "원본 네트워크와 축소된 네트워크의 검증 손실을 비교해 보죠. 점으로 표현된 것이 작은 네트워크이고 덧셈 기호가 원래 네트워크 입니다(검증 손실이 작은 것이 좋은 모델입니다)."
      ]
    },
    {
      "cell_type": "code",
      "metadata": {
        "id": "jmu_EsHcaAnf",
        "colab_type": "code",
        "colab": {
          "base_uri": "https://localhost:8080/",
          "height": 1000
        },
        "outputId": "148b6bf8-ea47-480c-e3b4-759f86887166"
      },
      "source": [
        "original_hist = original_model.fit(x_train, y_train,\n",
        "                                   epochs=20,\n",
        "                                   batch_size=512,\n",
        "                                   validation_data=(x_test, y_test))"
      ],
      "execution_count": 5,
      "outputs": [
        {
          "output_type": "stream",
          "text": [
            "WARNING:tensorflow:From /usr/local/lib/python3.6/dist-packages/keras/backend/tensorflow_backend.py:1033: The name tf.assign_add is deprecated. Please use tf.compat.v1.assign_add instead.\n",
            "\n",
            "WARNING:tensorflow:From /usr/local/lib/python3.6/dist-packages/keras/backend/tensorflow_backend.py:1020: The name tf.assign is deprecated. Please use tf.compat.v1.assign instead.\n",
            "\n",
            "WARNING:tensorflow:From /usr/local/lib/python3.6/dist-packages/keras/backend/tensorflow_backend.py:3005: The name tf.Session is deprecated. Please use tf.compat.v1.Session instead.\n",
            "\n",
            "Train on 25000 samples, validate on 25000 samples\n",
            "Epoch 1/20\n",
            "WARNING:tensorflow:From /usr/local/lib/python3.6/dist-packages/keras/backend/tensorflow_backend.py:190: The name tf.get_default_session is deprecated. Please use tf.compat.v1.get_default_session instead.\n",
            "\n",
            "WARNING:tensorflow:From /usr/local/lib/python3.6/dist-packages/keras/backend/tensorflow_backend.py:197: The name tf.ConfigProto is deprecated. Please use tf.compat.v1.ConfigProto instead.\n",
            "\n",
            "WARNING:tensorflow:From /usr/local/lib/python3.6/dist-packages/keras/backend/tensorflow_backend.py:207: The name tf.global_variables is deprecated. Please use tf.compat.v1.global_variables instead.\n",
            "\n",
            "WARNING:tensorflow:From /usr/local/lib/python3.6/dist-packages/keras/backend/tensorflow_backend.py:216: The name tf.is_variable_initialized is deprecated. Please use tf.compat.v1.is_variable_initialized instead.\n",
            "\n",
            "WARNING:tensorflow:From /usr/local/lib/python3.6/dist-packages/keras/backend/tensorflow_backend.py:223: The name tf.variables_initializer is deprecated. Please use tf.compat.v1.variables_initializer instead.\n",
            "\n",
            "25000/25000 [==============================] - 4s 154us/step - loss: 0.4359 - acc: 0.8317 - val_loss: 0.3273 - val_acc: 0.8822\n",
            "Epoch 2/20\n",
            "25000/25000 [==============================] - 3s 130us/step - loss: 0.2529 - acc: 0.9102 - val_loss: 0.3144 - val_acc: 0.8714\n",
            "Epoch 3/20\n",
            "25000/25000 [==============================] - 3s 128us/step - loss: 0.1978 - acc: 0.9286 - val_loss: 0.2936 - val_acc: 0.8810\n",
            "Epoch 4/20\n",
            "25000/25000 [==============================] - 3s 127us/step - loss: 0.1632 - acc: 0.9430 - val_loss: 0.3288 - val_acc: 0.8710\n",
            "Epoch 5/20\n",
            "25000/25000 [==============================] - 3s 128us/step - loss: 0.1403 - acc: 0.9512 - val_loss: 0.3178 - val_acc: 0.8782\n",
            "Epoch 6/20\n",
            "25000/25000 [==============================] - 3s 130us/step - loss: 0.1259 - acc: 0.9558 - val_loss: 0.3438 - val_acc: 0.8732\n",
            "Epoch 7/20\n",
            "25000/25000 [==============================] - 3s 131us/step - loss: 0.1086 - acc: 0.9629 - val_loss: 0.3686 - val_acc: 0.8690\n",
            "Epoch 8/20\n",
            "25000/25000 [==============================] - 3s 130us/step - loss: 0.0969 - acc: 0.9677 - val_loss: 0.3885 - val_acc: 0.8684\n",
            "Epoch 9/20\n",
            "25000/25000 [==============================] - 3s 129us/step - loss: 0.0865 - acc: 0.9714 - val_loss: 0.4182 - val_acc: 0.8663\n",
            "Epoch 10/20\n",
            "25000/25000 [==============================] - 3s 136us/step - loss: 0.0749 - acc: 0.9749 - val_loss: 0.5177 - val_acc: 0.8457\n",
            "Epoch 11/20\n",
            "25000/25000 [==============================] - 4s 146us/step - loss: 0.0686 - acc: 0.9776 - val_loss: 0.4720 - val_acc: 0.8631\n",
            "Epoch 12/20\n",
            "25000/25000 [==============================] - 3s 137us/step - loss: 0.0596 - acc: 0.9815 - val_loss: 0.5098 - val_acc: 0.8572\n",
            "Epoch 13/20\n",
            "25000/25000 [==============================] - 3s 129us/step - loss: 0.0534 - acc: 0.9832 - val_loss: 0.5864 - val_acc: 0.8454\n",
            "Epoch 14/20\n",
            "25000/25000 [==============================] - 3s 129us/step - loss: 0.0470 - acc: 0.9852 - val_loss: 0.6234 - val_acc: 0.8516\n",
            "Epoch 15/20\n",
            "25000/25000 [==============================] - 3s 131us/step - loss: 0.0375 - acc: 0.9900 - val_loss: 0.6184 - val_acc: 0.8500\n",
            "Epoch 16/20\n",
            "25000/25000 [==============================] - 3s 130us/step - loss: 0.0345 - acc: 0.9903 - val_loss: 0.6368 - val_acc: 0.8526\n",
            "Epoch 17/20\n",
            "25000/25000 [==============================] - 3s 131us/step - loss: 0.0301 - acc: 0.9922 - val_loss: 0.6757 - val_acc: 0.8530\n",
            "Epoch 18/20\n",
            "25000/25000 [==============================] - 3s 132us/step - loss: 0.0263 - acc: 0.9928 - val_loss: 0.7015 - val_acc: 0.8520\n",
            "Epoch 19/20\n",
            "25000/25000 [==============================] - 3s 130us/step - loss: 0.0236 - acc: 0.9939 - val_loss: 0.7444 - val_acc: 0.8510\n",
            "Epoch 20/20\n",
            "25000/25000 [==============================] - 3s 133us/step - loss: 0.0192 - acc: 0.9947 - val_loss: 0.7681 - val_acc: 0.8497\n"
          ],
          "name": "stdout"
        }
      ]
    },
    {
      "cell_type": "code",
      "metadata": {
        "id": "JCGkt23FaAnj",
        "colab_type": "code",
        "colab": {
          "base_uri": "https://localhost:8080/",
          "height": 755
        },
        "outputId": "c1327f47-6f19-432f-9095-5c35b3bb438c"
      },
      "source": [
        "smaller_model_hist = smaller_model.fit(x_train, y_train,\n",
        "                                       epochs=20,\n",
        "                                       batch_size=512,\n",
        "                                       validation_data=(x_test, y_test))"
      ],
      "execution_count": 6,
      "outputs": [
        {
          "output_type": "stream",
          "text": [
            "Train on 25000 samples, validate on 25000 samples\n",
            "Epoch 1/20\n",
            "25000/25000 [==============================] - 3s 132us/step - loss: 0.5768 - acc: 0.7617 - val_loss: 0.4653 - val_acc: 0.8577\n",
            "Epoch 2/20\n",
            "25000/25000 [==============================] - 3s 124us/step - loss: 0.3699 - acc: 0.8940 - val_loss: 0.3451 - val_acc: 0.8844\n",
            "Epoch 3/20\n",
            "25000/25000 [==============================] - 4s 149us/step - loss: 0.2697 - acc: 0.9152 - val_loss: 0.2987 - val_acc: 0.8870\n",
            "Epoch 4/20\n",
            "25000/25000 [==============================] - 7s 282us/step - loss: 0.2155 - acc: 0.9284 - val_loss: 0.2800 - val_acc: 0.8904\n",
            "Epoch 5/20\n",
            "25000/25000 [==============================] - 4s 154us/step - loss: 0.1829 - acc: 0.9382 - val_loss: 0.2800 - val_acc: 0.8884\n",
            "Epoch 6/20\n",
            "25000/25000 [==============================] - 3s 126us/step - loss: 0.1601 - acc: 0.9457 - val_loss: 0.2875 - val_acc: 0.8855\n",
            "Epoch 7/20\n",
            "25000/25000 [==============================] - 3s 125us/step - loss: 0.1423 - acc: 0.9526 - val_loss: 0.2990 - val_acc: 0.8836\n",
            "Epoch 8/20\n",
            "25000/25000 [==============================] - 3s 123us/step - loss: 0.1287 - acc: 0.9574 - val_loss: 0.3266 - val_acc: 0.8756\n",
            "Epoch 9/20\n",
            "25000/25000 [==============================] - 3s 126us/step - loss: 0.1165 - acc: 0.9622 - val_loss: 0.3398 - val_acc: 0.8742\n",
            "Epoch 10/20\n",
            "25000/25000 [==============================] - 3s 126us/step - loss: 0.1054 - acc: 0.9672 - val_loss: 0.3506 - val_acc: 0.8740\n",
            "Epoch 11/20\n",
            "25000/25000 [==============================] - 3s 125us/step - loss: 0.0969 - acc: 0.9698 - val_loss: 0.3681 - val_acc: 0.8721\n",
            "Epoch 12/20\n",
            "25000/25000 [==============================] - 3s 123us/step - loss: 0.0883 - acc: 0.9729 - val_loss: 0.3961 - val_acc: 0.8668\n",
            "Epoch 13/20\n",
            "25000/25000 [==============================] - 3s 125us/step - loss: 0.0809 - acc: 0.9759 - val_loss: 0.4168 - val_acc: 0.8646\n",
            "Epoch 14/20\n",
            "25000/25000 [==============================] - 3s 126us/step - loss: 0.0725 - acc: 0.9790 - val_loss: 0.4633 - val_acc: 0.8572\n",
            "Epoch 15/20\n",
            "25000/25000 [==============================] - 3s 126us/step - loss: 0.0665 - acc: 0.9817 - val_loss: 0.4542 - val_acc: 0.8625\n",
            "Epoch 16/20\n",
            "25000/25000 [==============================] - 3s 123us/step - loss: 0.0601 - acc: 0.9835 - val_loss: 0.4756 - val_acc: 0.8606\n",
            "Epoch 17/20\n",
            "25000/25000 [==============================] - 3s 123us/step - loss: 0.0548 - acc: 0.9851 - val_loss: 0.4990 - val_acc: 0.8590\n",
            "Epoch 18/20\n",
            "25000/25000 [==============================] - 3s 122us/step - loss: 0.0491 - acc: 0.9880 - val_loss: 0.5280 - val_acc: 0.8571\n",
            "Epoch 19/20\n",
            "25000/25000 [==============================] - 3s 121us/step - loss: 0.0456 - acc: 0.9888 - val_loss: 0.5468 - val_acc: 0.8572\n",
            "Epoch 20/20\n",
            "25000/25000 [==============================] - 3s 125us/step - loss: 0.0394 - acc: 0.9904 - val_loss: 0.5876 - val_acc: 0.8529\n"
          ],
          "name": "stdout"
        }
      ]
    },
    {
      "cell_type": "code",
      "metadata": {
        "id": "O7xe2Z46aAnm",
        "colab_type": "code",
        "colab": {}
      },
      "source": [
        "epochs = range(1, 21)\n",
        "original_val_loss = original_hist.history['val_loss']\n",
        "smaller_model_val_loss = smaller_model_hist.history['val_loss']"
      ],
      "execution_count": 0,
      "outputs": []
    },
    {
      "cell_type": "code",
      "metadata": {
        "id": "oEI5htjgaAnp",
        "colab_type": "code",
        "colab": {}
      },
      "source": [
        "import matplotlib.pyplot as plt"
      ],
      "execution_count": 0,
      "outputs": []
    },
    {
      "cell_type": "code",
      "metadata": {
        "scrolled": true,
        "id": "DYK5IPfhaAnt",
        "colab_type": "code",
        "colab": {
          "base_uri": "https://localhost:8080/",
          "height": 279
        },
        "outputId": "f27652f1-dc41-41f9-c9f3-361cc81dc404"
      },
      "source": [
        "# ‘b+’는 파란색 덧셈 기호을 의미합니다\n",
        "plt.plot(epochs, original_val_loss, 'b+', label='Original model')\n",
        "# ‘bo’는 파란색 점을 의미합니다\n",
        "plt.plot(epochs, smaller_model_val_loss, 'bo', label='Smaller model')\n",
        "plt.xlabel('Epochs')\n",
        "plt.ylabel('Validation loss')\n",
        "plt.legend()\n",
        "\n",
        "plt.show()"
      ],
      "execution_count": 9,
      "outputs": [
        {
          "output_type": "display_data",
          "data": {
            "image/png": "[encoded data removed]",
            "text/plain": [
              "<Figure size 432x288 with 1 Axes>"
            ]
          },
          "metadata": {
            "tags": []
          }
        }
      ]
    },
    {
      "cell_type": "markdown",
      "metadata": {
        "id": "WbwsFoLbaAnw",
        "colab_type": "text"
      },
      "source": [
        "여기서 볼 수 있듯이 작은 네트워크가 기본 네트워크보다 더 나중에 과대적합되기 시작했습니다(네 번째 에포크가 아니라 여섯 번째 에포크에서). 과대적합이 시작되었을 때 성능이 더 천천히 감소되었습니다.\n",
        "\n",
        "이번에는 문제에 필요한 것보다 훨씬 더 많은 용량을 가진 네트워크를 비교해 보겠습니다:"
      ]
    },
    {
      "cell_type": "code",
      "metadata": {
        "id": "eQ6XkXJGaAnx",
        "colab_type": "code",
        "colab": {}
      },
      "source": [
        "bigger_model = models.Sequential()\n",
        "bigger_model.add(layers.Dense(1024, activation='relu', input_shape=(10000,)))\n",
        "bigger_model.add(layers.Dense(1024, activation='relu'))\n",
        "bigger_model.add(layers.Dense(1, activation='sigmoid'))\n",
        "\n",
        "bigger_model.compile(optimizer='rmsprop',\n",
        "                     loss='binary_crossentropy',\n",
        "                     metrics=['acc'])"
      ],
      "execution_count": 0,
      "outputs": []
    },
    {
      "cell_type": "code",
      "metadata": {
        "id": "LaEpKlPjaAn0",
        "colab_type": "code",
        "colab": {
          "base_uri": "https://localhost:8080/",
          "height": 755
        },
        "outputId": "628ecd58-b340-4dde-bc9d-85494ae331d3"
      },
      "source": [
        "bigger_model_hist = bigger_model.fit(x_train, y_train,\n",
        "                                     epochs=20,\n",
        "                                     batch_size=512,\n",
        "                                     validation_data=(x_test, y_test))"
      ],
      "execution_count": 11,
      "outputs": [
        {
          "output_type": "stream",
          "text": [
            "Train on 25000 samples, validate on 25000 samples\n",
            "Epoch 1/20\n",
            "25000/25000 [==============================] - 36s 1ms/step - loss: 0.5658 - acc: 0.7796 - val_loss: 0.2835 - val_acc: 0.8864\n",
            "Epoch 2/20\n",
            "25000/25000 [==============================] - 36s 1ms/step - loss: 0.2364 - acc: 0.9046 - val_loss: 0.3045 - val_acc: 0.8774\n",
            "Epoch 3/20\n",
            "25000/25000 [==============================] - 35s 1ms/step - loss: 0.1263 - acc: 0.9539 - val_loss: 0.3473 - val_acc: 0.8843\n",
            "Epoch 4/20\n",
            "25000/25000 [==============================] - 35s 1ms/step - loss: 0.0847 - acc: 0.9803 - val_loss: 0.4640 - val_acc: 0.8848\n",
            "Epoch 5/20\n",
            "25000/25000 [==============================] - 37s 1ms/step - loss: 0.1062 - acc: 0.9857 - val_loss: 0.5068 - val_acc: 0.8822\n",
            "Epoch 6/20\n",
            "25000/25000 [==============================] - 36s 1ms/step - loss: 7.9859e-04 - acc: 1.0000 - val_loss: 0.6688 - val_acc: 0.8829\n",
            "Epoch 7/20\n",
            "25000/25000 [==============================] - 36s 1ms/step - loss: 7.8053e-05 - acc: 1.0000 - val_loss: 0.7939 - val_acc: 0.8818\n",
            "Epoch 8/20\n",
            "25000/25000 [==============================] - 36s 1ms/step - loss: 0.1601 - acc: 0.9841 - val_loss: 0.7639 - val_acc: 0.8801\n",
            "Epoch 9/20\n",
            "25000/25000 [==============================] - 38s 2ms/step - loss: 1.8705e-05 - acc: 1.0000 - val_loss: 0.7847 - val_acc: 0.8800\n",
            "Epoch 10/20\n",
            "25000/25000 [==============================] - 36s 1ms/step - loss: 7.1606e-06 - acc: 1.0000 - val_loss: 0.8322 - val_acc: 0.8798\n",
            "Epoch 11/20\n",
            "25000/25000 [==============================] - 36s 1ms/step - loss: 2.3498e-06 - acc: 1.0000 - val_loss: 0.9066 - val_acc: 0.8810\n",
            "Epoch 12/20\n",
            "25000/25000 [==============================] - 36s 1ms/step - loss: 5.2693e-07 - acc: 1.0000 - val_loss: 0.9800 - val_acc: 0.8807\n",
            "Epoch 13/20\n",
            "25000/25000 [==============================] - 36s 1ms/step - loss: 1.7582e-07 - acc: 1.0000 - val_loss: 1.0333 - val_acc: 0.8809\n",
            "Epoch 14/20\n",
            "25000/25000 [==============================] - 35s 1ms/step - loss: 1.2418e-07 - acc: 1.0000 - val_loss: 1.0626 - val_acc: 0.8807\n",
            "Epoch 15/20\n",
            "25000/25000 [==============================] - 37s 1ms/step - loss: 1.1553e-07 - acc: 1.0000 - val_loss: 1.0758 - val_acc: 0.8807\n",
            "Epoch 16/20\n",
            "25000/25000 [==============================] - 36s 1ms/step - loss: 1.1301e-07 - acc: 1.0000 - val_loss: 1.0835 - val_acc: 0.8810\n",
            "Epoch 17/20\n",
            "25000/25000 [==============================] - 35s 1ms/step - loss: 1.1189e-07 - acc: 1.0000 - val_loss: 1.0894 - val_acc: 0.8809\n",
            "Epoch 18/20\n",
            "25000/25000 [==============================] - 36s 1ms/step - loss: 1.1124e-07 - acc: 1.0000 - val_loss: 1.0948 - val_acc: 0.8809\n",
            "Epoch 19/20\n",
            "25000/25000 [==============================] - 36s 1ms/step - loss: 1.1085e-07 - acc: 1.0000 - val_loss: 1.0981 - val_acc: 0.8808\n",
            "Epoch 20/20\n",
            "25000/25000 [==============================] - 36s 1ms/step - loss: 1.1058e-07 - acc: 1.0000 - val_loss: 1.1007 - val_acc: 0.8808\n"
          ],
          "name": "stdout"
        }
      ]
    },
    {
      "cell_type": "markdown",
      "metadata": {
        "id": "19NDGxeWaAn4",
        "colab_type": "text"
      },
      "source": [
        "다음은 더 큰 네트워크가 기본 네트워크에 비해 얼마나 차이나는지를 보여줍니다. 점이 용량이 큰 네트워크의 검증 손실이고 덧셈 기호는 원본 네트워크의 검증 손실입니다."
      ]
    },
    {
      "cell_type": "code",
      "metadata": {
        "id": "lrHAxqveaAn5",
        "colab_type": "code",
        "colab": {
          "base_uri": "https://localhost:8080/",
          "height": 279
        },
        "outputId": "e12ea690-9c5a-4033-f28f-2b6e157c62b5"
      },
      "source": [
        "bigger_model_val_loss = bigger_model_hist.history['val_loss']\n",
        "\n",
        "plt.plot(epochs, original_val_loss, 'b+', label='Original model')\n",
        "plt.plot(epochs, bigger_model_val_loss, 'bo', label='Bigger model')\n",
        "plt.xlabel('Epochs')\n",
        "plt.ylabel('Validation loss')\n",
        "plt.legend()\n",
        "\n",
        "plt.show()"
      ],
      "execution_count": 12,
      "outputs": [
        {
          "output_type": "display_data",
          "data": {
            "image/png": "[encoded data removed]",
            "text/plain": [
              "<Figure size 432x288 with 1 Axes>"
            ]
          },
          "metadata": {
            "tags": []
          }
        }
      ]
    },
    {
      "cell_type": "markdown",
      "metadata": {
        "id": "raUgTmw3aAn8",
        "colab_type": "text"
      },
      "source": [
        "용량이 큰 네트워크는 첫 번째 에포크 이후 거의 바로 과대적합이 시작되어 갈수록 더 심해집니다. 검증 손실도 매우 불안정합니다.\n",
        "\n",
        "다음은 두 네트워크의 훈련 손실입니다:"
      ]
    },
    {
      "cell_type": "code",
      "metadata": {
        "id": "jw2MgAohaAn-",
        "colab_type": "code",
        "colab": {
          "base_uri": "https://localhost:8080/",
          "height": 279
        },
        "outputId": "dbffb639-3d92-4f59-a80c-857cf0cff23a"
      },
      "source": [
        "original_train_loss = original_hist.history['loss']\n",
        "bigger_model_train_loss = bigger_model_hist.history['loss']\n",
        "\n",
        "plt.plot(epochs, original_train_loss, 'b+', label='Original model')\n",
        "plt.plot(epochs, bigger_model_train_loss, 'bo', label='Bigger model')\n",
        "plt.xlabel('Epochs')\n",
        "plt.ylabel('Training loss')\n",
        "plt.legend()\n",
        "\n",
        "plt.show()"
      ],
      "execution_count": 13,
      "outputs": [
        {
          "output_type": "display_data",
          "data": {
            "image/png": "[encoded data removed]",
            "text/plain": [
              "<Figure size 432x288 with 1 Axes>"
            ]
          },
          "metadata": {
            "tags": []
          }
        }
      ]
    },
    {
      "cell_type": "markdown",
      "metadata": {
        "id": "My4FApJwaAoF",
        "colab_type": "text"
      },
      "source": [
        "여기서 볼 수 있듯이 용량이 큰 네트워크는 훈련 손실이 매우 빠르게 0에 가까워집니다. 용량이 많은 네트워크일수록 더 빠르게 훈련 데이터를 모델링할 수 있습니다(결국 훈련 손실이 낮아집니다). 하지만 더욱 과대적합에 민감해집니다(결국 훈련과 검증 손실 사이에 큰 차이가 발생합니다)."
      ]
    },
    {
      "cell_type": "markdown",
      "metadata": {
        "id": "GUX44Id5aAoG",
        "colab_type": "text"
      },
      "source": [
        "## 가중치 규제 추가\n",
        "\n",
        "오캄의 면도날 이론을 알고 있을지 모르겠습니다. 어떤 것에 대한 두 가지의 설명이 있다면 더 적은 가정을 필요하는 간단한 설명이 옳을 것이라는 이론입니다. 이 개념은 신경망으로 학습되는 모델에도 적용됩니다. 어떤 훈련 데이터와 네트워크 구조가 주어졌을 때 데이터를 설명할 수 있는 가중치 값의 집합은 여러 개(여러 개의 모델)입니다. 간단한 모델이 복잡한 모델보다 덜 과대적합될 가능성이 높습니다.\n",
        "\n",
        "여기에서 간단한 모델은 파라미터 값 분포의 엔트로피가 작은 모델입니다(또는 앞 절에서 본 것처럼 적은 수의 파라미터를 가진 모델입니다). 그러므로 과대적합을 완화시키기 위한 일반적인 방법은 네트워크의 복잡도에 제한을 두어 가중치가 작은 값을 가지도록 강제하는 것입니다. 가중치 값의 분포가 더 균일하게 됩니다. 이를 가중치 규제라고 하고 네트워크의 손실 함수에 큰 가중치에 연관된 비용을 추가합니다. 두 가지 형태의 비용이 있습니다.\n",
        "\n",
        "* L1 규제 : 가중치의 절대값에 비례하는 비용이 추가됩니다(가중치의 L1 노름).\n",
        "* L2 규제 : 가중치의 제곱에 비례하는 비용이 추가됩니다(가중치의 L2 노름). L2 규제는 신경망에서 가중치 감쇠라고도 부릅니다. 다른 이름 때문에 혼돈하지 마세요. 가중치 감쇠는 수학적으로 L2 규제와 동일합니다.\n",
        "\n",
        "케라스에서 가중치 규제 인스턴스를 층의 키워드 매개변수로 전달하여 가중치 규제를 추가할 수 있습니다. 영화 리뷰 분류 네트워크에 L2 가중치 규제를 추가해 보죠:"
      ]
    },
    {
      "cell_type": "code",
      "metadata": {
        "id": "UxveJxilaAoH",
        "colab_type": "code",
        "colab": {}
      },
      "source": [
        "from keras import regularizers\n",
        "\n",
        "l2_model = models.Sequential()\n",
        "l2_model.add(layers.Dense(16, kernel_regularizer=regularizers.l2(0.001),\n",
        "                          activation='relu', input_shape=(10000,)))\n",
        "l2_model.add(layers.Dense(16, kernel_regularizer=regularizers.l2(0.001),\n",
        "                          activation='relu'))\n",
        "l2_model.add(layers.Dense(1, activation='sigmoid'))"
      ],
      "execution_count": 0,
      "outputs": []
    },
    {
      "cell_type": "code",
      "metadata": {
        "id": "qNsfyy43aAoM",
        "colab_type": "code",
        "colab": {}
      },
      "source": [
        "l2_model.compile(optimizer='rmsprop',\n",
        "                 loss='binary_crossentropy',\n",
        "                 metrics=['acc'])"
      ],
      "execution_count": 0,
      "outputs": []
    },
    {
      "cell_type": "markdown",
      "metadata": {
        "id": "I5BY3EqnaAoQ",
        "colab_type": "text"
      },
      "source": [
        "`l2(0.001)`는 가중치 행렬의 모든 원소를 제곱하고 `0.001`을 곱하여 네트워크의 전체 손실에 더해진다는 의미입니다. 이 페널티 항은 훈련할 때만 추가됩니다. 이 네트워크의 손실은 테스트보다 훈련할 때 더 높을 것입니다.\n",
        "\n",
        "L2 규제 페널티의 효과를 확인해 보죠:"
      ]
    },
    {
      "cell_type": "code",
      "metadata": {
        "id": "QboCTC5QaAoS",
        "colab_type": "code",
        "colab": {
          "base_uri": "https://localhost:8080/",
          "height": 755
        },
        "outputId": "4f336529-e48e-4b79-f040-4096645d9d6e"
      },
      "source": [
        "l2_model_hist = l2_model.fit(x_train, y_train,\n",
        "                             epochs=20,\n",
        "                             batch_size=512,\n",
        "                             validation_data=(x_test, y_test))"
      ],
      "execution_count": 16,
      "outputs": [
        {
          "output_type": "stream",
          "text": [
            "Train on 25000 samples, validate on 25000 samples\n",
            "Epoch 1/20\n",
            "25000/25000 [==============================] - 3s 140us/step - loss: 0.4923 - acc: 0.8220 - val_loss: 0.3946 - val_acc: 0.8680\n",
            "Epoch 2/20\n",
            "25000/25000 [==============================] - 3s 132us/step - loss: 0.3156 - acc: 0.9058 - val_loss: 0.3349 - val_acc: 0.8898\n",
            "Epoch 3/20\n",
            "25000/25000 [==============================] - 3s 129us/step - loss: 0.2729 - acc: 0.9190 - val_loss: 0.3354 - val_acc: 0.8857\n",
            "Epoch 4/20\n",
            "25000/25000 [==============================] - 3s 132us/step - loss: 0.2524 - acc: 0.9285 - val_loss: 0.3341 - val_acc: 0.8866\n",
            "Epoch 5/20\n",
            "25000/25000 [==============================] - 3s 131us/step - loss: 0.2425 - acc: 0.9302 - val_loss: 0.3451 - val_acc: 0.8839\n",
            "Epoch 6/20\n",
            "25000/25000 [==============================] - 3s 134us/step - loss: 0.2314 - acc: 0.9371 - val_loss: 0.3724 - val_acc: 0.8748\n",
            "Epoch 7/20\n",
            "25000/25000 [==============================] - 3s 127us/step - loss: 0.2241 - acc: 0.9389 - val_loss: 0.3534 - val_acc: 0.8807\n",
            "Epoch 8/20\n",
            "25000/25000 [==============================] - 3s 131us/step - loss: 0.2210 - acc: 0.9396 - val_loss: 0.3841 - val_acc: 0.8718\n",
            "Epoch 9/20\n",
            "25000/25000 [==============================] - 3s 131us/step - loss: 0.2165 - acc: 0.9415 - val_loss: 0.3671 - val_acc: 0.8774\n",
            "Epoch 10/20\n",
            "25000/25000 [==============================] - 3s 135us/step - loss: 0.2118 - acc: 0.9433 - val_loss: 0.3903 - val_acc: 0.8725\n",
            "Epoch 11/20\n",
            "25000/25000 [==============================] - 4s 153us/step - loss: 0.2073 - acc: 0.9457 - val_loss: 0.4214 - val_acc: 0.8618\n",
            "Epoch 12/20\n",
            "25000/25000 [==============================] - 3s 130us/step - loss: 0.2067 - acc: 0.9452 - val_loss: 0.3839 - val_acc: 0.8756\n",
            "Epoch 13/20\n",
            "25000/25000 [==============================] - 3s 125us/step - loss: 0.2056 - acc: 0.9436 - val_loss: 0.3911 - val_acc: 0.8742\n",
            "Epoch 14/20\n",
            "25000/25000 [==============================] - 3s 127us/step - loss: 0.1979 - acc: 0.9478 - val_loss: 0.4215 - val_acc: 0.8654\n",
            "Epoch 15/20\n",
            "25000/25000 [==============================] - 3s 125us/step - loss: 0.1995 - acc: 0.9470 - val_loss: 0.4109 - val_acc: 0.8701\n",
            "Epoch 16/20\n",
            "25000/25000 [==============================] - 3s 124us/step - loss: 0.2002 - acc: 0.9466 - val_loss: 0.4065 - val_acc: 0.8724\n",
            "Epoch 17/20\n",
            "25000/25000 [==============================] - 3s 127us/step - loss: 0.1957 - acc: 0.9476 - val_loss: 0.4796 - val_acc: 0.8494\n",
            "Epoch 18/20\n",
            "25000/25000 [==============================] - 3s 125us/step - loss: 0.1952 - acc: 0.9482 - val_loss: 0.4107 - val_acc: 0.8711\n",
            "Epoch 19/20\n",
            "25000/25000 [==============================] - 3s 124us/step - loss: 0.1940 - acc: 0.9485 - val_loss: 0.4658 - val_acc: 0.8591\n",
            "Epoch 20/20\n",
            "25000/25000 [==============================] - 3s 127us/step - loss: 0.1946 - acc: 0.9492 - val_loss: 0.4385 - val_acc: 0.8641\n"
          ],
          "name": "stdout"
        }
      ]
    },
    {
      "cell_type": "code",
      "metadata": {
        "id": "JCOq5ujVaAoU",
        "colab_type": "code",
        "colab": {
          "base_uri": "https://localhost:8080/",
          "height": 279
        },
        "outputId": "9709bb21-883b-4327-a4b2-a5870ab57e22"
      },
      "source": [
        "l2_model_val_loss = l2_model_hist.history['val_loss']\n",
        "\n",
        "plt.plot(epochs, original_val_loss, 'b+', label='Original model')\n",
        "plt.plot(epochs, l2_model_val_loss, 'bo', label='L2-regularized model')\n",
        "plt.xlabel('Epochs')\n",
        "plt.ylabel('Validation loss')\n",
        "plt.legend()\n",
        "\n",
        "plt.show()"
      ],
      "execution_count": 17,
      "outputs": [
        {
          "output_type": "display_data",
          "data": {
            "image/png": "[encoded data removed]",
            "text/plain": [
              "<Figure size 432x288 with 1 Axes>"
            ]
          },
          "metadata": {
            "tags": []
          }
        }
      ]
    },
    {
      "cell_type": "markdown",
      "metadata": {
        "id": "PUZprxTHaAob",
        "colab_type": "text"
      },
      "source": [
        "여기서 볼 수 있듯이 두 모델이 동일한 파라미터 수를 가지고 있더라도 L2 규제를 사용한 모델(점)이 기본 모델(덧셈 기호)보다 훨씬 더 과대적합에 잘 견디고 있습니다.\n",
        "\n",
        "케라스에서 L2 규제 대신에 다음과 같은 가중치 규제 중 하나를 사용할 수 있습니다:"
      ]
    },
    {
      "cell_type": "markdown",
      "metadata": {
        "collapsed": true,
        "id": "AXocH6VBaAoc",
        "colab_type": "text"
      },
      "source": [
        "```python\n",
        "from keras import regularizers\n",
        "\n",
        "# L1 규제\n",
        "regularizers.l1(0.001)\n",
        "\n",
        "# L1과 L2 규제 병행\n",
        "regularizers.l1_l2(l1=0.001, l2=0.001)\n",
        "```"
      ]
    },
    {
      "cell_type": "markdown",
      "metadata": {
        "id": "VZkRC_NRaAod",
        "colab_type": "text"
      },
      "source": [
        "### l1(0.0001) 모델과 비교"
      ]
    },
    {
      "cell_type": "code",
      "metadata": {
        "id": "4aLmYz25aAoe",
        "colab_type": "code",
        "colab": {}
      },
      "source": [
        "l1_model = models.Sequential()\n",
        "l1_model.add(layers.Dense(16, kernel_regularizer=regularizers.l1(0.0001),\n",
        "                          activation='relu', input_shape=(10000,)))\n",
        "l1_model.add(layers.Dense(16, kernel_regularizer=regularizers.l1(0.0001),\n",
        "                          activation='relu'))\n",
        "l1_model.add(layers.Dense(1, activation='sigmoid'))"
      ],
      "execution_count": 0,
      "outputs": []
    },
    {
      "cell_type": "code",
      "metadata": {
        "id": "aSOu6hvlaAoj",
        "colab_type": "code",
        "colab": {}
      },
      "source": [
        "l1_model.compile(optimizer='rmsprop',\n",
        "                 loss='binary_crossentropy',\n",
        "                 metrics=['acc'])"
      ],
      "execution_count": 0,
      "outputs": []
    },
    {
      "cell_type": "code",
      "metadata": {
        "id": "GHglJazpaAom",
        "colab_type": "code",
        "colab": {
          "base_uri": "https://localhost:8080/",
          "height": 755
        },
        "outputId": "f9242a87-23d0-4294-fa43-3fd10f185195"
      },
      "source": [
        "l1_model_hist = l1_model.fit(x_train, y_train,\n",
        "                             epochs=20,\n",
        "                             batch_size=512,\n",
        "                             validation_data=(x_test, y_test))"
      ],
      "execution_count": 20,
      "outputs": [
        {
          "output_type": "stream",
          "text": [
            "Train on 25000 samples, validate on 25000 samples\n",
            "Epoch 1/20\n",
            "25000/25000 [==============================] - 4s 142us/step - loss: 0.5637 - acc: 0.8232 - val_loss: 0.4369 - val_acc: 0.8726\n",
            "Epoch 2/20\n",
            "25000/25000 [==============================] - 3s 131us/step - loss: 0.3783 - acc: 0.8930 - val_loss: 0.3756 - val_acc: 0.8870\n",
            "Epoch 3/20\n",
            "25000/25000 [==============================] - 3s 131us/step - loss: 0.3367 - acc: 0.9022 - val_loss: 0.3809 - val_acc: 0.8786\n",
            "Epoch 4/20\n",
            "25000/25000 [==============================] - 3s 130us/step - loss: 0.3201 - acc: 0.9080 - val_loss: 0.3587 - val_acc: 0.8878\n",
            "Epoch 5/20\n",
            "25000/25000 [==============================] - 3s 125us/step - loss: 0.3115 - acc: 0.9114 - val_loss: 0.3655 - val_acc: 0.8851\n",
            "Epoch 6/20\n",
            "25000/25000 [==============================] - 3s 129us/step - loss: 0.3033 - acc: 0.9160 - val_loss: 0.3885 - val_acc: 0.8768\n",
            "Epoch 7/20\n",
            "25000/25000 [==============================] - 3s 130us/step - loss: 0.2982 - acc: 0.9197 - val_loss: 0.3708 - val_acc: 0.8840\n",
            "Epoch 8/20\n",
            "25000/25000 [==============================] - 3s 137us/step - loss: 0.2927 - acc: 0.9213 - val_loss: 0.4227 - val_acc: 0.8625\n",
            "Epoch 9/20\n",
            "25000/25000 [==============================] - 3s 138us/step - loss: 0.2885 - acc: 0.9237 - val_loss: 0.4011 - val_acc: 0.8710\n",
            "Epoch 10/20\n",
            "25000/25000 [==============================] - 3s 138us/step - loss: 0.2886 - acc: 0.9217 - val_loss: 0.3813 - val_acc: 0.8813\n",
            "Epoch 11/20\n",
            "25000/25000 [==============================] - 3s 131us/step - loss: 0.2834 - acc: 0.9245 - val_loss: 0.3796 - val_acc: 0.8836\n",
            "Epoch 12/20\n",
            "25000/25000 [==============================] - 3s 135us/step - loss: 0.2795 - acc: 0.9274 - val_loss: 0.3824 - val_acc: 0.8818\n",
            "Epoch 13/20\n",
            "25000/25000 [==============================] - 3s 130us/step - loss: 0.2781 - acc: 0.9272 - val_loss: 0.4019 - val_acc: 0.8747\n",
            "Epoch 14/20\n",
            "25000/25000 [==============================] - 3s 135us/step - loss: 0.2758 - acc: 0.9264 - val_loss: 0.4303 - val_acc: 0.8665\n",
            "Epoch 15/20\n",
            "25000/25000 [==============================] - 3s 133us/step - loss: 0.2732 - acc: 0.9294 - val_loss: 0.3957 - val_acc: 0.8773\n",
            "Epoch 16/20\n",
            "25000/25000 [==============================] - 4s 142us/step - loss: 0.2676 - acc: 0.9320 - val_loss: 0.4055 - val_acc: 0.8745\n",
            "Epoch 17/20\n",
            "25000/25000 [==============================] - 3s 129us/step - loss: 0.2672 - acc: 0.9322 - val_loss: 0.4207 - val_acc: 0.8704\n",
            "Epoch 18/20\n",
            "25000/25000 [==============================] - 3s 130us/step - loss: 0.2655 - acc: 0.9315 - val_loss: 0.4038 - val_acc: 0.8776\n",
            "Epoch 19/20\n",
            "25000/25000 [==============================] - 3s 129us/step - loss: 0.2578 - acc: 0.9362 - val_loss: 0.4233 - val_acc: 0.8719\n",
            "Epoch 20/20\n",
            "25000/25000 [==============================] - 3s 129us/step - loss: 0.2576 - acc: 0.9349 - val_loss: 0.4299 - val_acc: 0.8679\n"
          ],
          "name": "stdout"
        }
      ]
    },
    {
      "cell_type": "code",
      "metadata": {
        "id": "Csaizh_WaAop",
        "colab_type": "code",
        "colab": {
          "base_uri": "https://localhost:8080/",
          "height": 279
        },
        "outputId": "e4632225-5095-449c-818e-21e352d886a5"
      },
      "source": [
        "l1_model_val_loss = l1_model_hist.history['val_loss']\n",
        "\n",
        "plt.plot(epochs, original_val_loss, 'b+', label='Original model')\n",
        "plt.plot(epochs, l1_model_val_loss, 'bo', label='L1-regularized model')\n",
        "plt.xlabel('Epochs')\n",
        "plt.ylabel('Validation loss')\n",
        "plt.legend()\n",
        "\n",
        "plt.show()"
      ],
      "execution_count": 21,
      "outputs": [
        {
          "output_type": "display_data",
          "data": {
            "image/png": "[encoded data removed]",
            "text/plain": [
              "<Figure size 432x288 with 1 Axes>"
            ]
          },
          "metadata": {
            "tags": []
          }
        }
      ]
    },
    {
      "cell_type": "markdown",
      "metadata": {
        "id": "qYLtYxeTaAou",
        "colab_type": "text"
      },
      "source": [
        "### l1_l2(l1=0.0001, l2=0.0001)모델과 비교"
      ]
    },
    {
      "cell_type": "code",
      "metadata": {
        "id": "kjXbYy6QaAov",
        "colab_type": "code",
        "colab": {}
      },
      "source": [
        "l1l2_model = models.Sequential()\n",
        "l1l2_model.add(layers.Dense(16, kernel_regularizer=regularizers.l1_l2(l1=0.0001, l2=0.0001),\n",
        "                            activation='relu', input_shape=(10000,)))\n",
        "l1l2_model.add(layers.Dense(16, kernel_regularizer=regularizers.l1_l2(l1=0.0001, l2=0.0001),\n",
        "                            activation='relu'))\n",
        "l1l2_model.add(layers.Dense(1, activation='sigmoid'))"
      ],
      "execution_count": 0,
      "outputs": []
    },
    {
      "cell_type": "code",
      "metadata": {
        "id": "T_uZlzyzaAo0",
        "colab_type": "code",
        "colab": {}
      },
      "source": [
        "l1l2_model.compile(optimizer='rmsprop',\n",
        "                   loss='binary_crossentropy',\n",
        "                   metrics=['acc'])"
      ],
      "execution_count": 0,
      "outputs": []
    },
    {
      "cell_type": "code",
      "metadata": {
        "id": "0ZmSojpPaAo5",
        "colab_type": "code",
        "colab": {
          "base_uri": "https://localhost:8080/",
          "height": 755
        },
        "outputId": "0948268e-685e-473b-c7be-3867cf2ce27e"
      },
      "source": [
        "l1l2_model_hist = l1l2_model.fit(x_train, y_train,\n",
        "                                 epochs=20,\n",
        "                                 batch_size=512,\n",
        "                                 validation_data=(x_test, y_test))"
      ],
      "execution_count": 24,
      "outputs": [
        {
          "output_type": "stream",
          "text": [
            "Train on 25000 samples, validate on 25000 samples\n",
            "Epoch 1/20\n",
            "25000/25000 [==============================] - 4s 154us/step - loss: 0.5644 - acc: 0.8169 - val_loss: 0.4455 - val_acc: 0.8662\n",
            "Epoch 2/20\n",
            "25000/25000 [==============================] - 3s 138us/step - loss: 0.3788 - acc: 0.8934 - val_loss: 0.3759 - val_acc: 0.8877\n",
            "Epoch 3/20\n",
            "25000/25000 [==============================] - 3s 131us/step - loss: 0.3391 - acc: 0.9049 - val_loss: 0.3666 - val_acc: 0.8876\n",
            "Epoch 4/20\n",
            "25000/25000 [==============================] - 3s 135us/step - loss: 0.3215 - acc: 0.9088 - val_loss: 0.4352 - val_acc: 0.8542\n",
            "Epoch 5/20\n",
            "25000/25000 [==============================] - 3s 130us/step - loss: 0.3132 - acc: 0.9121 - val_loss: 0.3688 - val_acc: 0.8854\n",
            "Epoch 6/20\n",
            "25000/25000 [==============================] - 4s 179us/step - loss: 0.3033 - acc: 0.9173 - val_loss: 0.3736 - val_acc: 0.8832\n",
            "Epoch 7/20\n",
            "25000/25000 [==============================] - 4s 164us/step - loss: 0.2988 - acc: 0.9194 - val_loss: 0.3700 - val_acc: 0.8857\n",
            "Epoch 8/20\n",
            "25000/25000 [==============================] - 3s 135us/step - loss: 0.2921 - acc: 0.9224 - val_loss: 0.4094 - val_acc: 0.8675\n",
            "Epoch 9/20\n",
            "25000/25000 [==============================] - 3s 136us/step - loss: 0.2870 - acc: 0.9232 - val_loss: 0.3738 - val_acc: 0.8847\n",
            "Epoch 10/20\n",
            "25000/25000 [==============================] - 3s 131us/step - loss: 0.2831 - acc: 0.9250 - val_loss: 0.3797 - val_acc: 0.8812\n",
            "Epoch 11/20\n",
            "25000/25000 [==============================] - 3s 130us/step - loss: 0.2762 - acc: 0.9284 - val_loss: 0.3798 - val_acc: 0.8823\n",
            "Epoch 12/20\n",
            "25000/25000 [==============================] - 3s 127us/step - loss: 0.2733 - acc: 0.9286 - val_loss: 0.3879 - val_acc: 0.8786\n",
            "Epoch 13/20\n",
            "25000/25000 [==============================] - 3s 131us/step - loss: 0.2712 - acc: 0.9301 - val_loss: 0.4081 - val_acc: 0.8750\n",
            "Epoch 14/20\n",
            "25000/25000 [==============================] - 3s 138us/step - loss: 0.2664 - acc: 0.9329 - val_loss: 0.4139 - val_acc: 0.8696\n",
            "Epoch 15/20\n",
            "25000/25000 [==============================] - 3s 125us/step - loss: 0.2589 - acc: 0.9344 - val_loss: 0.4351 - val_acc: 0.8625\n",
            "Epoch 16/20\n",
            "25000/25000 [==============================] - 3s 128us/step - loss: 0.2582 - acc: 0.9361 - val_loss: 0.3976 - val_acc: 0.8773\n",
            "Epoch 17/20\n",
            "25000/25000 [==============================] - 3s 130us/step - loss: 0.2554 - acc: 0.9372 - val_loss: 0.3992 - val_acc: 0.8777\n",
            "Epoch 18/20\n",
            "25000/25000 [==============================] - 3s 130us/step - loss: 0.2450 - acc: 0.9415 - val_loss: 0.4030 - val_acc: 0.8759\n",
            "Epoch 19/20\n",
            "25000/25000 [==============================] - 3s 130us/step - loss: 0.2435 - acc: 0.9418 - val_loss: 0.4120 - val_acc: 0.8725\n",
            "Epoch 20/20\n",
            "25000/25000 [==============================] - 3s 133us/step - loss: 0.2409 - acc: 0.9406 - val_loss: 0.4561 - val_acc: 0.8599\n"
          ],
          "name": "stdout"
        }
      ]
    },
    {
      "cell_type": "code",
      "metadata": {
        "id": "6luCwYyeaAo9",
        "colab_type": "code",
        "colab": {
          "base_uri": "https://localhost:8080/",
          "height": 279
        },
        "outputId": "2afc8f87-09b5-43b5-d697-dc49e8f323a6"
      },
      "source": [
        "l1l2_model_val_loss = l1l2_model_hist.history['val_loss']\n",
        "\n",
        "plt.plot(epochs, original_val_loss, 'b+', label='Original model')\n",
        "plt.plot(epochs, l1l2_model_val_loss, 'bo', label='L1,L2-regularized model')\n",
        "plt.xlabel('Epochs')\n",
        "plt.ylabel('Validation loss')\n",
        "plt.legend()\n",
        "\n",
        "plt.show()"
      ],
      "execution_count": 25,
      "outputs": [
        {
          "output_type": "display_data",
          "data": {
            "image/png": "[encoded data removed]",
            "text/plain": [
              "<Figure size 432x288 with 1 Axes>"
            ]
          },
          "metadata": {
            "tags": []
          }
        }
      ]
    },
    {
      "cell_type": "markdown",
      "metadata": {
        "id": "2EDY1Qbqet6B",
        "colab_type": "text"
      },
      "source": [
        "위의 두 예시로만 봐서는, L1만 했을때 보다 L1과 L2를 같이 사용했을때 과대적합이 더 늦게 나타났고, 성능이 감소하는 정도도 같이 사용했을때가 더 작았다. 하지만 검증 손실은 결과적으로 L1과 L2를 같이 사용했을때가 더 작았다."
      ]
    },
    {
      "cell_type": "markdown",
      "metadata": {
        "id": "39TUfHwNaApD",
        "colab_type": "text"
      },
      "source": [
        "## 드롭아웃 추가\n",
        "\n",
        "드롭아웃은 토론토 대학의 제프리 힌튼과 그의 학생들이 개발했습니다. 신경망을 위해 사용되는 규제 기법 중에서 가장 효과적이고 널리 사용되는 방법 중에 하나입니다. 네트워크의 층에 드롭아웃을 적용하면 훈련하는 동안 무작위로 층의 일부 출력 특성을 제외시킵니다(0으로 만듭니다). 한 층이 정상적으로 훈련하는 동안에는 어떤 입력 샘플에 대해 `[0.2, 0.5, 1.3, 0.8, 1.1]` 벡터를 출력한다고 가정합시다. 드롭아웃을 적용하면 이 벡터의 일부가 무작위로 0으로 바뀝니다. 예를 들면 `[0, 0.5, 1.3, 0, 1.1]`이 됩니다. 드롭아웃 비율은 0이 될 특성의 비율입니다. 보통 0.2에서 0.5 사이로 지정됩니다. 테스트 단계에서는 어떤 유닛도 드롭아웃되지 않습니다. 대신에 층의 출력을 드롭아웃 비율에 비례하여 줄여 줍니다. 훈련할 때보다 더 많은 유닛이 활성화되기 때문입니다.\n",
        "\n",
        "크기가 `(batch_size, features)`인 한 층의 출력을 담고 있는 넘파이 행렬을 생각해 보겠습니다. 훈련할 때는 이 행렬의 값의 일부가 랜덤하게 0이 됩니다:"
      ]
    },
    {
      "cell_type": "markdown",
      "metadata": {
        "collapsed": true,
        "id": "TqxGwI45aApF",
        "colab_type": "text"
      },
      "source": [
        "```python\n",
        "# 훈련할 때 유닛의 출력 중 50%를 버립니다 (이걸,, 어떻게 알죠,,,,??? -> 아래에서 깨달음)\n",
        "# randint(0, hight=2)는 0이상 2미만의 정수를 반환한다. 즉, 0 또는 1이 반환된다.\n",
        "layer_output *= np.random.randint(0, high=2, size=layer_output.shape)\n",
        "```"
      ]
    },
    {
      "cell_type": "markdown",
      "metadata": {
        "id": "Tn_h6OGmaApL",
        "colab_type": "text"
      },
      "source": [
        "테스트할 때는 드롭아웃 비율로 출력을 낮추어 주어야 합니다. 여기에서는 0.5배만큼 스케일을 조정했습니다(앞에서 절반의 유닛을 드롭아웃했으므로):"
      ]
    },
    {
      "cell_type": "markdown",
      "metadata": {
        "collapsed": true,
        "id": "kC2jG_3xaApL",
        "colab_type": "text"
      },
      "source": [
        "```python\n",
        "# 테스트 단계\n",
        "layer_output *= 0.5\n",
        "```"
      ]
    },
    {
      "cell_type": "markdown",
      "metadata": {
        "id": "01Y-HnpKaApM",
        "colab_type": "text"
      },
      "source": [
        "훈련 단계에 이 두 연산을 포함시켜 테스트 단계에는 출력을 그대로 두도록 구현할 수 있습니다. 실제로 종종 이런 방식으로 구현합니다:"
      ]
    },
    {
      "cell_type": "markdown",
      "metadata": {
        "collapsed": true,
        "id": "Poi5yVwUaApN",
        "colab_type": "text"
      },
      "source": [
        "```python\n",
        "# 훈련 단계\n",
        "layer_output *= np.randint(0, high=2, size=layer_output.shape)\n",
        "# 여기에서 스케일을 낮추는 대신 높입니다![image.png](attachment:image.png)\n",
        "layer_output /= 0.5\n",
        "```"
      ]
    },
    {
      "cell_type": "markdown",
      "metadata": {
        "id": "zR_2B5feaApO",
        "colab_type": "text"
      },
      "source": [
        "이 기법이 이상하고 무계획적으로 보일 수 있습니다. 왜 드롭아웃이 과대적합을 줄이는 데 도움이 될까요? 힌튼은 은행에서 사용하는 부정 방지 메커니즘에서 착안했다고 합니다. 그의 말을 빌리면 “은행에 갔을 때 행원들이 계속 바뀌길래 왜 그런지를 물었습니다. 자신들도 이유는 모르지만 자주 업무가 바뀐다고 했습니다. 나는 은행에서 부정 행위를 하려면 직원들 사이의 유대가 필요하기 때문이라고 판단했습니다. 각 샘플에 대해 뉴런의 일부를 무작위하게 제거하면 뉴런의 부정한 협업을 방지하고 결국 과대적합을 감소시킨다는 것을 깨달았습니다.\"\n",
        "\n",
        "핵심 아이디어는 층의 출력 값에 노이즈를 추가하여 중요하지 않은 우연한 패턴(힌튼이 이야기한 부정한 협업)을 깨뜨리는 것입니다. 노이즈가 없다면 네트워크가 이 패턴을 기억하기 시작할 것입니다.\n",
        "\n",
        "케라스에서는 층의 출력 바로 뒤에 `Dropout` 층을 추가하여 네트워크에 드롭아웃을 적용할 수 있습니다:"
      ]
    },
    {
      "cell_type": "markdown",
      "metadata": {
        "collapsed": true,
        "id": "uP4ApNIvaApP",
        "colab_type": "text"
      },
      "source": [
        "```python\n",
        "model.add(layers.Dropout(0.5))\n",
        "```"
      ]
    },
    {
      "cell_type": "markdown",
      "metadata": {
        "id": "GDGPgsafaApQ",
        "colab_type": "text"
      },
      "source": [
        "IMDB 네트워크에 두 개의 `Dropout` 층을 추가하고 과대적합을 얼마나 줄여주는지 확인해 보겠습니다:"
      ]
    },
    {
      "cell_type": "code",
      "metadata": {
        "id": "lQ7o1WUvaApR",
        "colab_type": "code",
        "colab": {
          "base_uri": "https://localhost:8080/",
          "height": 107
        },
        "outputId": "63173c35-59e6-4eca-8000-d0a5d1dc69cd"
      },
      "source": [
        "dpt_model = models.Sequential()\n",
        "dpt_model.add(layers.Dense(16, activation='relu', input_shape=(10000,)))\n",
        "dpt_model.add(layers.Dropout(0.5)) # 드롭아웃 비율 :  0.5\n",
        "dpt_model.add(layers.Dense(16, activation='relu'))\n",
        "dpt_model.add(layers.Dropout(0.5)) # 드롭아웃 비율 :  0.5\n",
        "dpt_model.add(layers.Dense(1, activation='sigmoid'))\n",
        "\n",
        "dpt_model.compile(optimizer='rmsprop',\n",
        "                  loss='binary_crossentropy',\n",
        "                  metrics=['acc'])"
      ],
      "execution_count": 26,
      "outputs": [
        {
          "output_type": "stream",
          "text": [
            "WARNING:tensorflow:From /usr/local/lib/python3.6/dist-packages/keras/backend/tensorflow_backend.py:148: The name tf.placeholder_with_default is deprecated. Please use tf.compat.v1.placeholder_with_default instead.\n",
            "\n",
            "WARNING:tensorflow:From /usr/local/lib/python3.6/dist-packages/keras/backend/tensorflow_backend.py:3733: calling dropout (from tensorflow.python.ops.nn_ops) with keep_prob is deprecated and will be removed in a future version.\n",
            "Instructions for updating:\n",
            "Please use `rate` instead of `keep_prob`. Rate should be set to `rate = 1 - keep_prob`.\n"
          ],
          "name": "stdout"
        }
      ]
    },
    {
      "cell_type": "code",
      "metadata": {
        "id": "_jvJO4gUaApT",
        "colab_type": "code",
        "colab": {
          "base_uri": "https://localhost:8080/",
          "height": 755
        },
        "outputId": "b92e1336-117f-48ec-e4ba-529f62befc4a"
      },
      "source": [
        "dpt_model_hist = dpt_model.fit(x_train, y_train,\n",
        "                               epochs=20,\n",
        "                               batch_size=512,\n",
        "                               validation_data=(x_test, y_test))"
      ],
      "execution_count": 27,
      "outputs": [
        {
          "output_type": "stream",
          "text": [
            "Train on 25000 samples, validate on 25000 samples\n",
            "Epoch 1/20\n",
            "25000/25000 [==============================] - 4s 153us/step - loss: 0.6099 - acc: 0.6616 - val_loss: 0.4771 - val_acc: 0.8484\n",
            "Epoch 2/20\n",
            "25000/25000 [==============================] - 3s 129us/step - loss: 0.4555 - acc: 0.8083 - val_loss: 0.3557 - val_acc: 0.8814\n",
            "Epoch 3/20\n",
            "25000/25000 [==============================] - 3s 128us/step - loss: 0.3670 - acc: 0.8586 - val_loss: 0.3022 - val_acc: 0.8866\n",
            "Epoch 4/20\n",
            "25000/25000 [==============================] - 3s 136us/step - loss: 0.3060 - acc: 0.8896 - val_loss: 0.2838 - val_acc: 0.8887\n",
            "Epoch 5/20\n",
            "25000/25000 [==============================] - 3s 128us/step - loss: 0.2645 - acc: 0.9077 - val_loss: 0.2789 - val_acc: 0.8882\n",
            "Epoch 6/20\n",
            "25000/25000 [==============================] - 3s 129us/step - loss: 0.2340 - acc: 0.9203 - val_loss: 0.2854 - val_acc: 0.8868\n",
            "Epoch 7/20\n",
            "25000/25000 [==============================] - 3s 126us/step - loss: 0.2072 - acc: 0.9297 - val_loss: 0.3110 - val_acc: 0.8847\n",
            "Epoch 8/20\n",
            "25000/25000 [==============================] - 3s 126us/step - loss: 0.1884 - acc: 0.9382 - val_loss: 0.3204 - val_acc: 0.8830\n",
            "Epoch 9/20\n",
            "25000/25000 [==============================] - 3s 126us/step - loss: 0.1747 - acc: 0.9421 - val_loss: 0.3436 - val_acc: 0.8838\n",
            "Epoch 10/20\n",
            "25000/25000 [==============================] - 3s 128us/step - loss: 0.1567 - acc: 0.9484 - val_loss: 0.3643 - val_acc: 0.8818\n",
            "Epoch 11/20\n",
            "25000/25000 [==============================] - 3s 130us/step - loss: 0.1486 - acc: 0.9524 - val_loss: 0.3790 - val_acc: 0.8806\n",
            "Epoch 12/20\n",
            "25000/25000 [==============================] - 3s 131us/step - loss: 0.1399 - acc: 0.9547 - val_loss: 0.4026 - val_acc: 0.8783\n",
            "Epoch 13/20\n",
            "25000/25000 [==============================] - 3s 122us/step - loss: 0.1342 - acc: 0.9556 - val_loss: 0.4375 - val_acc: 0.8730\n",
            "Epoch 14/20\n",
            "25000/25000 [==============================] - 3s 120us/step - loss: 0.1260 - acc: 0.9590 - val_loss: 0.4537 - val_acc: 0.8787\n",
            "Epoch 15/20\n",
            "25000/25000 [==============================] - 3s 121us/step - loss: 0.1167 - acc: 0.9620 - val_loss: 0.4553 - val_acc: 0.8724\n",
            "Epoch 16/20\n",
            "25000/25000 [==============================] - 3s 134us/step - loss: 0.1173 - acc: 0.9624 - val_loss: 0.4884 - val_acc: 0.8749\n",
            "Epoch 17/20\n",
            "25000/25000 [==============================] - 3s 130us/step - loss: 0.1116 - acc: 0.9637 - val_loss: 0.5251 - val_acc: 0.8705\n",
            "Epoch 18/20\n",
            "25000/25000 [==============================] - 3s 129us/step - loss: 0.1091 - acc: 0.9648 - val_loss: 0.5421 - val_acc: 0.8728\n",
            "Epoch 19/20\n",
            "25000/25000 [==============================] - 3s 132us/step - loss: 0.1055 - acc: 0.9644 - val_loss: 0.5558 - val_acc: 0.8745\n",
            "Epoch 20/20\n",
            "25000/25000 [==============================] - 3s 124us/step - loss: 0.1008 - acc: 0.9662 - val_loss: 0.5629 - val_acc: 0.8699\n"
          ],
          "name": "stdout"
        }
      ]
    },
    {
      "cell_type": "markdown",
      "metadata": {
        "id": "KradYvrBaApV",
        "colab_type": "text"
      },
      "source": [
        "결과 그래프를 그려 보죠:"
      ]
    },
    {
      "cell_type": "code",
      "metadata": {
        "id": "v5rlfM_naApW",
        "colab_type": "code",
        "colab": {
          "base_uri": "https://localhost:8080/",
          "height": 279
        },
        "outputId": "8f6d86f7-5db9-495d-c928-185e2d8a8be4"
      },
      "source": [
        "dpt_model_val_loss = dpt_model_hist.history['val_loss']\n",
        "\n",
        "plt.plot(epochs, original_val_loss, 'b+', label='Original model')\n",
        "plt.plot(epochs, dpt_model_val_loss, 'bo', label='Dropout-regularized model')\n",
        "plt.xlabel('Epochs')\n",
        "plt.ylabel('Validation loss')\n",
        "plt.legend()\n",
        "\n",
        "plt.show()"
      ],
      "execution_count": 28,
      "outputs": [
        {
          "output_type": "display_data",
          "data": {
            "image/png": "[encoded data removed]",
            "text/plain": [
              "<Figure size 432x288 with 1 Axes>"
            ]
          },
          "metadata": {
            "tags": []
          }
        }
      ]
    },
    {
      "cell_type": "markdown",
      "metadata": {
        "id": "n1zk6tCMaApZ",
        "colab_type": "text"
      },
      "source": [
        "여기에서도 기본 네트워크보다 확실히 향상되었습니다.\n",
        "\n",
        "정리하면 신경망에서 과대적합을 방지하기 위해 가장 널리 사용하는 방법은 다음과 같습니다.\n",
        "\n",
        "* 훈련 데이터를 더 모읍니다.\n",
        "* 네트워크의 용량을 감소시킵니다.\n",
        "* 가중치 규제를 추가합니다.\n",
        "* 드롭아웃을 추가합니다"
      ]
    }
  ]
}